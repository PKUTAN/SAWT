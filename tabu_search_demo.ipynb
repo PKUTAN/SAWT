{
 "cells": [
  {
   "cell_type": "code",
   "execution_count": 1,
   "metadata": {},
   "outputs": [],
   "source": [
    "import random\n",
    "import numpy as np\n",
    "from tqdm import tqdm\n",
    "\n",
    "def form_per(sol):\n",
    "    # Assume sol is a list of indices between (0,N)\n",
    "    N = len(sol)\n",
    "    per = np.zeros((N,N))\n",
    "    \n",
    "    for i,j in zip(range(N), sol):\n",
    "        per[i,j] = 1\n",
    "\n",
    "    return per\n",
    "\n",
    "def objective_function(F,D,sol):\n",
    "    per = form_per(sol)\n",
    "    obj = np.sum(F*(per@D@per.T))  \n",
    "    return obj\n",
    "\n",
    "def create_neighbour(index1,index2,solution):\n",
    "    neighbour_solution = solution[:]\n",
    "    neighbour_solution[index1], neighbour_solution[index2] = neighbour_solution[index2], neighbour_solution[index1]\n",
    "    return neighbour_solution\n",
    "\n",
    "\n",
    "def tabu_search(F,D,max_iterations, num_values,max_tabu_size):\n",
    "    current_solution = [x for x in range(num_values)]\n",
    "    best_solution = current_solution[:]\n",
    "\n",
    "    tabu_list = []\n",
    "    for iteration in tqdm(range(max_iterations)):\n",
    "        neighbours = [create_neighbour(i,j,current_solution) for i in range(num_values-1) for j in range(i+1,num_values)]\n",
    "        neighbours = [x for x in neighbours if str(x) not in tabu_list]\n",
    "\n",
    "        if not neighbours:\n",
    "            break\n",
    "\n",
    "        best_neighbour = min(neighbours, key=lambda x: objective_function(F, D, x))\n",
    "\n",
    "        current_solution = best_neighbour\n",
    "        tabu_list.append(str(current_solution))\n",
    "\n",
    "        if len(tabu_list) > max_tabu_size:\n",
    "            tabu_list.pop(0)\n",
    "\n",
    "        if objective_function(F, D, best_neighbour) < objective_function(F, D, best_solution):\n",
    "            best_solution = best_neighbour\n",
    "            \n",
    "    return objective_function(F,D,best_solution)\n",
    "\n",
    "# def random_2_swap(F,D,max_iterations, num_values):\n",
    "#     current_solution = [x for x in range(num_values)]\n",
    "#     best_solution = current_solution[:]\n",
    "\n",
    "#     for iteration in range(max_iterations):\n",
    "#         neighbours = [create_neighbour(current_solution)]\n",
    "#         neighbours = [x for x in neighbours if str(x) not in tabu_list]\n",
    "\n",
    "#         if not neighbours:\n",
    "#             break\n",
    "\n",
    "#         best_neighbour = min(neighbours, key=lambda x: objective_function(F, D, x))\n",
    "\n",
    "#         current_solution = best_neighbour\n",
    "#         tabu_list.append(str(current_solution))\n",
    "\n",
    "#         if len(tabu_list) > max_tabu_size:\n",
    "#             tabu_list.pop(0)\n",
    "\n",
    "#         if objective_function(F, D, best_neighbour) < objective_function(F, D, best_solution):\n",
    "#             best_solution = best_neighbour\n",
    "            \n",
    "#     return objective_function(F,D,best_solution)"
   ]
  },
  {
   "cell_type": "code",
   "execution_count": 18,
   "metadata": {},
   "outputs": [],
   "source": [
    "F = np.load('/home/tzt/learning-2opt-drl/synthetic_data/erdos10_0.7_F_train.npy')\n",
    "D = np.load('/home/tzt/learning-2opt-drl/synthetic_data/erdos10_0.7_positions_train.npy')\n",
    "from utils import distance_matrix\n"
   ]
  },
  {
   "cell_type": "code",
   "execution_count": 26,
   "metadata": {},
   "outputs": [],
   "source": [
    "out = []\n",
    "for i in range(1280):\n",
    "    out.append(tabu_search(F[i],distance_matrix(D[i],D[i]),200,20,100))"
   ]
  },
  {
   "cell_type": "code",
   "execution_count": 27,
   "metadata": {},
   "outputs": [],
   "source": [
    "out = np.array(out)"
   ]
  },
  {
   "cell_type": "code",
   "execution_count": 38,
   "metadata": {},
   "outputs": [
    {
     "name": "stdout",
     "output_type": "stream",
     "text": [
      "max:80.26347363223985,min:37.57789969403851,mean:55.005370169457876\n"
     ]
    }
   ],
   "source": [
    "print('max:{},min:{},mean:{}'.format(out.max(),out.min(),out.mean()))"
   ]
  },
  {
   "cell_type": "code",
   "execution_count": 3,
   "metadata": {},
   "outputs": [
    {
     "name": "stderr",
     "output_type": "stream",
     "text": [
      "/home/tzt/anaconda3/envs/ThinkMatch/lib/python3.7/site-packages/tqdm/auto.py:22: TqdmWarning: IProgress not found. Please update jupyter and ipywidgets. See https://ipywidgets.readthedocs.io/en/stable/user_install.html\n",
      "  from .autonotebook import tqdm as notebook_tqdm\n",
      "100%|██████████| 1000/1000 [00:00<00:00, 2335.53it/s]\n",
      "100%|██████████| 1000/1000 [00:00<00:00, 2501.88it/s]\n",
      "100%|██████████| 1000/1000 [00:00<00:00, 2322.54it/s]\n",
      "100%|██████████| 1000/1000 [00:00<00:00, 2235.47it/s]\n",
      "100%|██████████| 1000/1000 [00:00<00:00, 2371.31it/s]\n",
      "100%|██████████| 1000/1000 [00:00<00:00, 2308.07it/s]\n",
      "100%|██████████| 1000/1000 [00:00<00:00, 2426.32it/s]\n",
      "100%|██████████| 1000/1000 [00:00<00:00, 2474.37it/s]\n",
      "100%|██████████| 1000/1000 [00:00<00:00, 2396.37it/s]\n",
      "100%|██████████| 1000/1000 [00:00<00:00, 2432.21it/s]\n",
      "100%|██████████| 1000/1000 [00:00<00:00, 2461.54it/s]\n",
      "100%|██████████| 1000/1000 [00:00<00:00, 2394.79it/s]\n",
      "100%|██████████| 1000/1000 [00:00<00:00, 2443.09it/s]\n",
      "100%|██████████| 1000/1000 [00:00<00:00, 2247.04it/s]\n",
      "100%|██████████| 1000/1000 [00:00<00:00, 2339.73it/s]\n",
      "100%|██████████| 1000/1000 [00:00<00:00, 2312.95it/s]\n",
      "100%|██████████| 1000/1000 [00:00<00:00, 2215.95it/s]\n",
      "100%|██████████| 1000/1000 [00:00<00:00, 2395.50it/s]\n",
      "100%|██████████| 1000/1000 [00:00<00:00, 2220.03it/s]\n",
      "100%|██████████| 1000/1000 [00:00<00:00, 2379.98it/s]\n",
      "100%|██████████| 1000/1000 [00:00<00:00, 2404.23it/s]\n",
      "100%|██████████| 1000/1000 [00:00<00:00, 2412.97it/s]\n",
      "100%|██████████| 1000/1000 [00:00<00:00, 2414.16it/s]\n",
      "100%|██████████| 1000/1000 [00:00<00:00, 2343.20it/s]\n",
      "100%|██████████| 1000/1000 [00:00<00:00, 2374.43it/s]\n",
      "100%|██████████| 1000/1000 [00:00<00:00, 2457.34it/s]\n",
      "100%|██████████| 1000/1000 [00:00<00:00, 2414.28it/s]\n",
      "100%|██████████| 1000/1000 [00:00<00:00, 2501.23it/s]\n",
      "100%|██████████| 1000/1000 [00:00<00:00, 2437.66it/s]\n",
      "100%|██████████| 1000/1000 [00:00<00:00, 2463.85it/s]\n",
      "100%|██████████| 1000/1000 [00:00<00:00, 2428.25it/s]\n",
      "100%|██████████| 1000/1000 [00:00<00:00, 2455.01it/s]\n",
      "100%|██████████| 1000/1000 [00:00<00:00, 2534.54it/s]\n",
      "100%|██████████| 1000/1000 [00:00<00:00, 2483.38it/s]\n",
      "100%|██████████| 1000/1000 [00:00<00:00, 2372.59it/s]\n",
      "100%|██████████| 1000/1000 [00:00<00:00, 2509.99it/s]\n",
      "100%|██████████| 1000/1000 [00:00<00:00, 2486.94it/s]\n",
      "100%|██████████| 1000/1000 [00:00<00:00, 2498.75it/s]\n",
      "100%|██████████| 1000/1000 [00:00<00:00, 2506.76it/s]\n",
      "100%|██████████| 1000/1000 [00:00<00:00, 2472.30it/s]\n",
      "100%|██████████| 1000/1000 [00:00<00:00, 2485.97it/s]\n",
      "100%|██████████| 1000/1000 [00:00<00:00, 2477.33it/s]\n",
      "100%|██████████| 1000/1000 [00:00<00:00, 2511.73it/s]\n",
      "100%|██████████| 1000/1000 [00:00<00:00, 2419.77it/s]\n",
      "100%|██████████| 1000/1000 [00:00<00:00, 2524.63it/s]\n",
      "100%|██████████| 1000/1000 [00:00<00:00, 2466.78it/s]\n",
      "100%|██████████| 1000/1000 [00:00<00:00, 2504.88it/s]\n",
      "100%|██████████| 1000/1000 [00:00<00:00, 2526.15it/s]\n",
      "100%|██████████| 1000/1000 [00:00<00:00, 2529.95it/s]\n",
      "100%|██████████| 1000/1000 [00:00<00:00, 2454.98it/s]\n",
      "100%|██████████| 1000/1000 [00:00<00:00, 2429.80it/s]\n",
      "100%|██████████| 1000/1000 [00:00<00:00, 2456.09it/s]\n",
      "100%|██████████| 1000/1000 [00:00<00:00, 2492.24it/s]\n",
      "100%|██████████| 1000/1000 [00:00<00:00, 2475.97it/s]\n",
      "100%|██████████| 1000/1000 [00:00<00:00, 2466.25it/s]\n",
      "100%|██████████| 1000/1000 [00:00<00:00, 2512.50it/s]\n",
      "100%|██████████| 1000/1000 [00:00<00:00, 2409.78it/s]\n",
      "100%|██████████| 1000/1000 [00:00<00:00, 2507.26it/s]\n",
      "100%|██████████| 1000/1000 [00:00<00:00, 2429.97it/s]\n",
      "100%|██████████| 1000/1000 [00:00<00:00, 2582.65it/s]\n",
      "100%|██████████| 1000/1000 [00:00<00:00, 2492.86it/s]\n",
      "100%|██████████| 1000/1000 [00:00<00:00, 2430.52it/s]\n",
      "100%|██████████| 1000/1000 [00:00<00:00, 2495.99it/s]\n",
      "100%|██████████| 1000/1000 [00:00<00:00, 2399.25it/s]\n",
      "100%|██████████| 1000/1000 [00:00<00:00, 2516.70it/s]\n",
      "100%|██████████| 1000/1000 [00:00<00:00, 2495.35it/s]\n",
      "100%|██████████| 1000/1000 [00:00<00:00, 2501.03it/s]\n",
      "100%|██████████| 1000/1000 [00:00<00:00, 2407.25it/s]\n",
      "100%|██████████| 1000/1000 [00:00<00:00, 2453.43it/s]\n",
      "100%|██████████| 1000/1000 [00:00<00:00, 2427.27it/s]\n",
      "100%|██████████| 1000/1000 [00:00<00:00, 2462.96it/s]\n",
      "100%|██████████| 1000/1000 [00:00<00:00, 2504.73it/s]\n",
      "100%|██████████| 1000/1000 [00:00<00:00, 2548.90it/s]\n",
      "100%|██████████| 1000/1000 [00:00<00:00, 2372.38it/s]\n",
      "100%|██████████| 1000/1000 [00:00<00:00, 2464.67it/s]\n",
      "100%|██████████| 1000/1000 [00:00<00:00, 2498.29it/s]\n",
      "100%|██████████| 1000/1000 [00:00<00:00, 2447.69it/s]\n",
      "100%|██████████| 1000/1000 [00:00<00:00, 2503.70it/s]\n",
      "100%|██████████| 1000/1000 [00:00<00:00, 2470.57it/s]\n",
      "100%|██████████| 1000/1000 [00:00<00:00, 2441.11it/s]\n",
      "100%|██████████| 1000/1000 [00:00<00:00, 2452.52it/s]\n",
      "100%|██████████| 1000/1000 [00:00<00:00, 2455.60it/s]\n",
      "100%|██████████| 1000/1000 [00:00<00:00, 2379.08it/s]\n",
      "100%|██████████| 1000/1000 [00:00<00:00, 2465.99it/s]\n",
      "100%|██████████| 1000/1000 [00:00<00:00, 2507.31it/s]\n",
      "100%|██████████| 1000/1000 [00:00<00:00, 2432.86it/s]\n",
      "100%|██████████| 1000/1000 [00:00<00:00, 2479.24it/s]\n",
      "100%|██████████| 1000/1000 [00:00<00:00, 2463.37it/s]\n",
      "100%|██████████| 1000/1000 [00:00<00:00, 2470.83it/s]\n",
      "100%|██████████| 1000/1000 [00:00<00:00, 2285.44it/s]\n",
      "100%|██████████| 1000/1000 [00:00<00:00, 2437.41it/s]\n",
      "100%|██████████| 1000/1000 [00:00<00:00, 2503.01it/s]\n",
      "100%|██████████| 1000/1000 [00:00<00:00, 2463.53it/s]\n",
      "100%|██████████| 1000/1000 [00:00<00:00, 2425.94it/s]\n",
      "100%|██████████| 1000/1000 [00:00<00:00, 2447.11it/s]\n",
      "100%|██████████| 1000/1000 [00:00<00:00, 2505.05it/s]\n",
      "100%|██████████| 1000/1000 [00:00<00:00, 2429.75it/s]\n",
      "100%|██████████| 1000/1000 [00:00<00:00, 2488.34it/s]\n",
      "100%|██████████| 1000/1000 [00:00<00:00, 2482.95it/s]\n",
      "100%|██████████| 1000/1000 [00:00<00:00, 2391.93it/s]\n"
     ]
    }
   ],
   "source": [
    "out_test = []\n",
    "\n",
    "F = np.load('./synthetic_data/erdos10_0.7_F_test.npy')\n",
    "D = np.load('./synthetic_data/erdos10_0.7_positions_test.npy')\n",
    "from utils import distance_matrix\n",
    "\n",
    "for i in range(100):\n",
    "    out_test.append(tabu_search(F[i],distance_matrix(D[i],D[i]),1000,10,1000))"
   ]
  },
  {
   "cell_type": "code",
   "execution_count": 4,
   "metadata": {},
   "outputs": [],
   "source": [
    "out_test = np.array(out_test)"
   ]
  },
  {
   "cell_type": "code",
   "execution_count": 5,
   "metadata": {},
   "outputs": [
    {
     "name": "stdout",
     "output_type": "stream",
     "text": [
      "max:18.985549490956394,min:6.108462834653917,mean:11.84524885731414\n"
     ]
    }
   ],
   "source": [
    "print('max:{},min:{},mean:{}'.format(out_test.max(),out_test.min(),out_test.mean()))"
   ]
  },
  {
   "cell_type": "code",
   "execution_count": 3,
   "metadata": {},
   "outputs": [
    {
     "name": "stdout",
     "output_type": "stream",
     "text": [
      "max:19.139106912972164,min:6.108462834653917,mean:11.928089895390169\n"
     ]
    }
   ],
   "source": [
    "out_test = np.array(out_test)\n",
    "print('max:{},min:{},mean:{}'.format(out_test.max(),out_test.min(),out_test.mean()))"
   ]
  },
  {
   "cell_type": "code",
   "execution_count": 9,
   "metadata": {},
   "outputs": [
    {
     "name": "stdout",
     "output_type": "stream",
     "text": [
      "max:18.65831817694724,min:6.502369594077295,mean:12.222716614685798\n"
     ]
    }
   ],
   "source": [
    "F = np.load('/home/tzt/learning-2opt-drl/synthetic_data/erdos10_0.7_F_train_toy.npy')\n",
    "D = np.load('/home/tzt/learning-2opt-drl/synthetic_data/erdos10_0.7_positions_train_toy.npy')\n",
    "from utils import distance_matrix\n",
    "\n",
    "out = []\n",
    "for i in range(128):\n",
    "    out.append(tabu_search(F[i],distance_matrix(D[i],D[i]),1000,10,1000))\n",
    "\n",
    "out = np.array(out)\n",
    "\n",
    "print('max:{},min:{},mean:{}'.format(out.max(),out.min(),out.mean()))"
   ]
  },
  {
   "cell_type": "code",
   "execution_count": 10,
   "metadata": {},
   "outputs": [
    {
     "name": "stdout",
     "output_type": "stream",
     "text": [
      "max:17.25742715595388,min:6.702966501323883,mean:12.271987719071017\n"
     ]
    }
   ],
   "source": [
    "F = np.load('/home/tzt/learning-2opt-drl/synthetic_data/erdos10_0.7_F_test_toy.npy')\n",
    "D = np.load('/home/tzt/learning-2opt-drl/synthetic_data/erdos10_0.7_positions_test_toy.npy')\n",
    "from utils import distance_matrix\n",
    "\n",
    "out = []\n",
    "for i in range(10):\n",
    "    out.append(tabu_search(F[i],distance_matrix(D[i],D[i]),1000,10,500))\n",
    "\n",
    "out = np.array(out)\n",
    "\n",
    "print('max:{},min:{},mean:{}'.format(out.max(),out.min(),out.mean()))"
   ]
  },
  {
   "cell_type": "code",
   "execution_count": 21,
   "metadata": {},
   "outputs": [
    {
     "name": "stdout",
     "output_type": "stream",
     "text": [
      "max:13.695594280585738,min:13.695594280585738,mean:13.695594280585738\n"
     ]
    }
   ],
   "source": [
    "F = np.load('/home/tzt/learning-2opt-drl/synthetic_data/erdos10_0.7_F_train_toy_1.npy')\n",
    "D = np.load('/home/tzt/learning-2opt-drl/synthetic_data/erdos10_0.7_positions_train_toy_1.npy')\n",
    "from utils import distance_matrix\n",
    "\n",
    "out = []\n",
    "for i in range(1):\n",
    "    out.append(tabu_search(F[i],distance_matrix(D[i],D[i]),100,10,200))\n",
    "\n",
    "out = np.array(out)\n",
    "\n",
    "print('max:{},min:{},mean:{}'.format(out.max(),out.min(),out.mean()))"
   ]
  },
  {
   "cell_type": "code",
   "execution_count": 16,
   "metadata": {},
   "outputs": [
    {
     "name": "stderr",
     "output_type": "stream",
     "text": [
      "100%|██████████| 100/100 [36:10<00:00, 21.71s/it]"
     ]
    },
    {
     "name": "stdout",
     "output_type": "stream",
     "text": [
      "max:18.882088897151434,min:6.108462834653917,mean:11.790325422365196\n"
     ]
    },
    {
     "name": "stderr",
     "output_type": "stream",
     "text": [
      "\n"
     ]
    }
   ],
   "source": [
    "F = np.load('/home/tzt/learning-2opt-drl/synthetic_data/erdos10_0.7_F_test.npy')\n",
    "D = np.load('/home/tzt/learning-2opt-drl/synthetic_data/erdos10_0.7_positions_test.npy')\n",
    "from utils import distance_matrix\n",
    "from tqdm import tqdm\n",
    "\n",
    "out = []\n",
    "for i in tqdm(range(100)):\n",
    "    out.append(tabu_search(F[i],distance_matrix(D[i],D[i]),10000,10,10000))\n",
    "\n",
    "out = np.array(out)\n",
    "\n",
    "print('max:{},min:{},mean:{}'.format(out.max(),out.min(),out.mean()))"
   ]
  },
  {
   "cell_type": "code",
   "execution_count": 25,
   "metadata": {},
   "outputs": [
    {
     "name": "stdout",
     "output_type": "stream",
     "text": [
      "max:24.652269972122994,min:4.081421955233919,mean:12.235480641276718\n"
     ]
    }
   ],
   "source": [
    "F = np.load('/home/tzt/learning-2opt-drl/synthetic_data/erdos10_0.7_F_train.npy')\n",
    "D = np.load('/home/tzt/learning-2opt-drl/synthetic_data/erdos10_0.7_positions_train.npy')\n",
    "from utils import distance_matrix\n",
    "\n",
    "out = []\n",
    "for i in range(1280):\n",
    "    out.append(tabu_search(F[i],distance_matrix(D[i],D[i]),1000,10,200))\n",
    "\n",
    "out = np.array(out)\n",
    "\n",
    "print('max:{},min:{},mean:{}'.format(out.max(),out.min(),out.mean()))"
   ]
  },
  {
   "cell_type": "code",
   "execution_count": 4,
   "metadata": {},
   "outputs": [
    {
     "name": "stdout",
     "output_type": "stream",
     "text": [
      "max:78.0432630693995,min:37.24936456427966,mean:55.166899370908666\n"
     ]
    }
   ],
   "source": [
    "F = np.load('/home/tzt/learning-2opt-drl/synthetic_data/erdos20_0.7_F_test.npy')\n",
    "D = np.load('/home/tzt/learning-2opt-drl/synthetic_data/erdos20_0.7_positions_test.npy')\n",
    "from utils import distance_matrix\n",
    "\n",
    "out = []\n",
    "for i in range(256):\n",
    "    out.append(tabu_search(F[i],distance_matrix(D[i],D[i]),1000,20,1000))\n",
    "\n",
    "out = np.array(out)\n",
    "\n",
    "print('max:{},min:{},mean:{}'.format(out.max(),out.min(),out.mean()))"
   ]
  },
  {
   "cell_type": "code",
   "execution_count": 3,
   "metadata": {},
   "outputs": [
    {
     "name": "stderr",
     "output_type": "stream",
     "text": [
      "/home/tzt/anaconda3/envs/ThinkMatch/lib/python3.7/site-packages/tqdm/auto.py:22: TqdmWarning: IProgress not found. Please update jupyter and ipywidgets. See https://ipywidgets.readthedocs.io/en/stable/user_install.html\n",
      "  from .autonotebook import tqdm as notebook_tqdm\n",
      "100%|██████████| 5120/5120 [2:55:01<00:00,  2.05s/it]  "
     ]
    },
    {
     "name": "stdout",
     "output_type": "stream",
     "text": [
      "max:79.54350371006899,min:32.7781312966917,mean:54.85704152572775\n"
     ]
    },
    {
     "name": "stderr",
     "output_type": "stream",
     "text": [
      "\n"
     ]
    }
   ],
   "source": [
    "F = np.load('/home/tzt/learning-2opt-drl/synthetic_data/erdos20_0.7_F_train.npy')\n",
    "D = np.load('/home/tzt/learning-2opt-drl/synthetic_data/erdos20_0.7_positions_train.npy')\n",
    "from utils import distance_matrix\n",
    "from tqdm import tqdm\n",
    "\n",
    "out = []\n",
    "for i in tqdm(range(5120)):\n",
    "    out.append(tabu_search(F[i],distance_matrix(D[i],D[i]),1000,20,1000))\n",
    "\n",
    "out = np.array(out)\n",
    "\n",
    "print('max:{},min:{},mean:{}'.format(out.max(),out.min(),out.mean()))"
   ]
  },
  {
   "cell_type": "code",
   "execution_count": 5,
   "metadata": {},
   "outputs": [
    {
     "name": "stderr",
     "output_type": "stream",
     "text": [
      "100%|██████████| 5000/5000 [04:11<00:00, 19.92it/s]"
     ]
    },
    {
     "name": "stdout",
     "output_type": "stream",
     "text": [
      "max:359.99905964980553,min:359.99905964980553,mean:359.99905964980553\n"
     ]
    },
    {
     "name": "stderr",
     "output_type": "stream",
     "text": [
      "\n"
     ]
    }
   ],
   "source": [
    "F = np.load('/home/tzt/learning-2opt-drl/synthetic_data/erdos50_0.7_F_test.npy')\n",
    "D = np.load('/home/tzt/learning-2opt-drl/synthetic_data/erdos50_0.7_positions_test.npy')\n",
    "from utils import distance_matrix\n",
    "\n",
    "out = []\n",
    "for i in range(1):\n",
    "    out.append(tabu_search(F[i],distance_matrix(D[i],D[i]),5000,50,5000))\n",
    "\n",
    "out = np.array(out)\n",
    "\n",
    "print('max:{},min:{},mean:{}'.format(out.max(),out.min(),out.mean()))"
   ]
  },
  {
   "cell_type": "code",
   "execution_count": 7,
   "metadata": {},
   "outputs": [
    {
     "name": "stderr",
     "output_type": "stream",
     "text": [
      "  0%|          | 0/5000 [00:00<?, ?it/s]"
     ]
    },
    {
     "name": "stderr",
     "output_type": "stream",
     "text": [
      "  0%|          | 5/5000 [00:04<1:22:51,  1.00it/s]\n"
     ]
    },
    {
     "ename": "KeyboardInterrupt",
     "evalue": "",
     "output_type": "error",
     "traceback": [
      "\u001b[0;31m---------------------------------------------------------------------------\u001b[0m",
      "\u001b[0;31mKeyboardInterrupt\u001b[0m                         Traceback (most recent call last)",
      "\u001b[0;32m/tmp/ipykernel_16226/2822962603.py\u001b[0m in \u001b[0;36m<module>\u001b[0;34m\u001b[0m\n\u001b[1;32m      5\u001b[0m \u001b[0mout\u001b[0m \u001b[0;34m=\u001b[0m \u001b[0;34m[\u001b[0m\u001b[0;34m]\u001b[0m\u001b[0;34m\u001b[0m\u001b[0;34m\u001b[0m\u001b[0m\n\u001b[1;32m      6\u001b[0m \u001b[0;32mfor\u001b[0m \u001b[0mi\u001b[0m \u001b[0;32min\u001b[0m \u001b[0mrange\u001b[0m\u001b[0;34m(\u001b[0m\u001b[0;36m1\u001b[0m\u001b[0;34m)\u001b[0m\u001b[0;34m:\u001b[0m\u001b[0;34m\u001b[0m\u001b[0;34m\u001b[0m\u001b[0m\n\u001b[0;32m----> 7\u001b[0;31m     \u001b[0mout\u001b[0m\u001b[0;34m.\u001b[0m\u001b[0mappend\u001b[0m\u001b[0;34m(\u001b[0m\u001b[0mtabu_search\u001b[0m\u001b[0;34m(\u001b[0m\u001b[0mF\u001b[0m\u001b[0;34m[\u001b[0m\u001b[0mi\u001b[0m\u001b[0;34m]\u001b[0m\u001b[0;34m,\u001b[0m\u001b[0mdistance_matrix\u001b[0m\u001b[0;34m(\u001b[0m\u001b[0mD\u001b[0m\u001b[0;34m[\u001b[0m\u001b[0mi\u001b[0m\u001b[0;34m]\u001b[0m\u001b[0;34m,\u001b[0m\u001b[0mD\u001b[0m\u001b[0;34m[\u001b[0m\u001b[0mi\u001b[0m\u001b[0;34m]\u001b[0m\u001b[0;34m)\u001b[0m\u001b[0;34m,\u001b[0m\u001b[0;36m5000\u001b[0m\u001b[0;34m,\u001b[0m\u001b[0;36m100\u001b[0m\u001b[0;34m,\u001b[0m\u001b[0;36m5000\u001b[0m\u001b[0;34m)\u001b[0m\u001b[0;34m)\u001b[0m\u001b[0;34m\u001b[0m\u001b[0;34m\u001b[0m\u001b[0m\n\u001b[0m\u001b[1;32m      8\u001b[0m \u001b[0;34m\u001b[0m\u001b[0m\n\u001b[1;32m      9\u001b[0m \u001b[0mout\u001b[0m \u001b[0;34m=\u001b[0m \u001b[0mnp\u001b[0m\u001b[0;34m.\u001b[0m\u001b[0marray\u001b[0m\u001b[0;34m(\u001b[0m\u001b[0mout\u001b[0m\u001b[0;34m)\u001b[0m\u001b[0;34m\u001b[0m\u001b[0;34m\u001b[0m\u001b[0m\n",
      "\u001b[0;32m/tmp/ipykernel_16226/2877915011.py\u001b[0m in \u001b[0;36mtabu_search\u001b[0;34m(F, D, max_iterations, num_values, max_tabu_size)\u001b[0m\n\u001b[1;32m     36\u001b[0m             \u001b[0;32mbreak\u001b[0m\u001b[0;34m\u001b[0m\u001b[0;34m\u001b[0m\u001b[0m\n\u001b[1;32m     37\u001b[0m \u001b[0;34m\u001b[0m\u001b[0m\n\u001b[0;32m---> 38\u001b[0;31m         \u001b[0mbest_neighbour\u001b[0m \u001b[0;34m=\u001b[0m \u001b[0mmin\u001b[0m\u001b[0;34m(\u001b[0m\u001b[0mneighbours\u001b[0m\u001b[0;34m,\u001b[0m \u001b[0mkey\u001b[0m\u001b[0;34m=\u001b[0m\u001b[0;32mlambda\u001b[0m \u001b[0mx\u001b[0m\u001b[0;34m:\u001b[0m \u001b[0mobjective_function\u001b[0m\u001b[0;34m(\u001b[0m\u001b[0mF\u001b[0m\u001b[0;34m,\u001b[0m \u001b[0mD\u001b[0m\u001b[0;34m,\u001b[0m \u001b[0mx\u001b[0m\u001b[0;34m)\u001b[0m\u001b[0;34m)\u001b[0m\u001b[0;34m\u001b[0m\u001b[0;34m\u001b[0m\u001b[0m\n\u001b[0m\u001b[1;32m     39\u001b[0m \u001b[0;34m\u001b[0m\u001b[0m\n\u001b[1;32m     40\u001b[0m         \u001b[0mcurrent_solution\u001b[0m \u001b[0;34m=\u001b[0m \u001b[0mbest_neighbour\u001b[0m\u001b[0;34m\u001b[0m\u001b[0;34m\u001b[0m\u001b[0m\n",
      "\u001b[0;32m/tmp/ipykernel_16226/2877915011.py\u001b[0m in \u001b[0;36m<lambda>\u001b[0;34m(x)\u001b[0m\n\u001b[1;32m     36\u001b[0m             \u001b[0;32mbreak\u001b[0m\u001b[0;34m\u001b[0m\u001b[0;34m\u001b[0m\u001b[0m\n\u001b[1;32m     37\u001b[0m \u001b[0;34m\u001b[0m\u001b[0m\n\u001b[0;32m---> 38\u001b[0;31m         \u001b[0mbest_neighbour\u001b[0m \u001b[0;34m=\u001b[0m \u001b[0mmin\u001b[0m\u001b[0;34m(\u001b[0m\u001b[0mneighbours\u001b[0m\u001b[0;34m,\u001b[0m \u001b[0mkey\u001b[0m\u001b[0;34m=\u001b[0m\u001b[0;32mlambda\u001b[0m \u001b[0mx\u001b[0m\u001b[0;34m:\u001b[0m \u001b[0mobjective_function\u001b[0m\u001b[0;34m(\u001b[0m\u001b[0mF\u001b[0m\u001b[0;34m,\u001b[0m \u001b[0mD\u001b[0m\u001b[0;34m,\u001b[0m \u001b[0mx\u001b[0m\u001b[0;34m)\u001b[0m\u001b[0;34m)\u001b[0m\u001b[0;34m\u001b[0m\u001b[0;34m\u001b[0m\u001b[0m\n\u001b[0m\u001b[1;32m     39\u001b[0m \u001b[0;34m\u001b[0m\u001b[0m\n\u001b[1;32m     40\u001b[0m         \u001b[0mcurrent_solution\u001b[0m \u001b[0;34m=\u001b[0m \u001b[0mbest_neighbour\u001b[0m\u001b[0;34m\u001b[0m\u001b[0;34m\u001b[0m\u001b[0m\n",
      "\u001b[0;32m/tmp/ipykernel_16226/2877915011.py\u001b[0m in \u001b[0;36mobjective_function\u001b[0;34m(F, D, sol)\u001b[0m\n\u001b[1;32m     15\u001b[0m \u001b[0;32mdef\u001b[0m \u001b[0mobjective_function\u001b[0m\u001b[0;34m(\u001b[0m\u001b[0mF\u001b[0m\u001b[0;34m,\u001b[0m\u001b[0mD\u001b[0m\u001b[0;34m,\u001b[0m\u001b[0msol\u001b[0m\u001b[0;34m)\u001b[0m\u001b[0;34m:\u001b[0m\u001b[0;34m\u001b[0m\u001b[0;34m\u001b[0m\u001b[0m\n\u001b[1;32m     16\u001b[0m     \u001b[0mper\u001b[0m \u001b[0;34m=\u001b[0m \u001b[0mform_per\u001b[0m\u001b[0;34m(\u001b[0m\u001b[0msol\u001b[0m\u001b[0;34m)\u001b[0m\u001b[0;34m\u001b[0m\u001b[0;34m\u001b[0m\u001b[0m\n\u001b[0;32m---> 17\u001b[0;31m     \u001b[0mobj\u001b[0m \u001b[0;34m=\u001b[0m \u001b[0mnp\u001b[0m\u001b[0;34m.\u001b[0m\u001b[0msum\u001b[0m\u001b[0;34m(\u001b[0m\u001b[0mF\u001b[0m\u001b[0;34m*\u001b[0m\u001b[0;34m(\u001b[0m\u001b[0mper\u001b[0m\u001b[0;34m@\u001b[0m\u001b[0mD\u001b[0m\u001b[0;34m@\u001b[0m\u001b[0mper\u001b[0m\u001b[0;34m.\u001b[0m\u001b[0mT\u001b[0m\u001b[0;34m)\u001b[0m\u001b[0;34m)\u001b[0m\u001b[0;34m\u001b[0m\u001b[0;34m\u001b[0m\u001b[0m\n\u001b[0m\u001b[1;32m     18\u001b[0m     \u001b[0;32mreturn\u001b[0m \u001b[0mobj\u001b[0m\u001b[0;34m\u001b[0m\u001b[0;34m\u001b[0m\u001b[0m\n\u001b[1;32m     19\u001b[0m \u001b[0;34m\u001b[0m\u001b[0m\n",
      "\u001b[0;31mKeyboardInterrupt\u001b[0m: "
     ]
    }
   ],
   "source": [
    "F = np.load('/home/tzt/learning-2opt-drl/synthetic_data/erdos100_0.7_F_test.npy')\n",
    "D = np.load('/home/tzt/learning-2opt-drl/synthetic_data/erdos100_0.7_positions_test.npy')\n",
    "from utils import distance_matrix\n",
    "\n",
    "out = []\n",
    "for i in range(1):\n",
    "    out.append(tabu_search(F[i],distance_matrix(D[i],D[i]),5000,100,5000))\n",
    "\n",
    "out = np.array(out)\n",
    "\n",
    "print('max:{},min:{},mean:{}'.format(out.max(),out.min(),out.mean()))"
   ]
  },
  {
   "cell_type": "code",
   "execution_count": 61,
   "metadata": {},
   "outputs": [
    {
     "name": "stdout",
     "output_type": "stream",
     "text": [
      "max:445.7243690779969,min:349.0074822781116,mean:386.76291495250405\n"
     ]
    }
   ],
   "source": [
    "F = np.load('/home/tzt/learning-2opt-drl/synthetic_data/erdos50_0.7_F_test.npy')\n",
    "D = np.load('/home/tzt/learning-2opt-drl/synthetic_data/erdos50_0.7_positions_test.npy')\n",
    "from utils import distance_matrix\n",
    "\n",
    "out = []\n",
    "for i in range(128):\n",
    "    out.append(tabu_search(F[i],distance_matrix(D[i],D[i]),30,50,30))\n",
    "\n",
    "out = np.array(out)\n",
    "\n",
    "print('max:{},min:{},mean:{}'.format(out.max(),out.min(),out.mean()))"
   ]
  },
  {
   "cell_type": "code",
   "execution_count": 29,
   "metadata": {},
   "outputs": [],
   "source": [
    "from pathlib import Path\n",
    "import random\n",
    "import re\n",
    "\n",
    "cls_list = ['erdos']\n",
    "class BaseDataset:\n",
    "    def __init__(self):\n",
    "        pass\n",
    "\n",
    "    def get_pair(self, cls, shuffle):\n",
    "        raise NotImplementedError\n",
    "\n",
    "class QAPLIB(BaseDataset):\n",
    "    def __init__(self, sets, cls, fetch_online=False):\n",
    "        super(QAPLIB, self).__init__()\n",
    "        self.classes = ['qaplib']\n",
    "        self.sets = sets\n",
    "\n",
    "        if cls is not None and cls != 'none':\n",
    "            idx = cls_list.index(cls)\n",
    "            self.cls_list = [cls_list[idx]]\n",
    "        else:\n",
    "            self.cls_list = cls_list\n",
    "\n",
    "        self.data_list = []\n",
    "        # self.qap_path = Path('./data/taillard45e')\n",
    "        # self.qap_path = Path('./data/qapdata')\n",
    "        self.qap_path = Path('./synthetic_data/erdos20_0.6/')\n",
    "        for inst in self.cls_list:\n",
    "            for dat_path in self.qap_path.glob(inst + '*.dat'):\n",
    "                name = dat_path.name[:-4]\n",
    "                prob_size = int(re.findall(r\"\\d+\", name)[0])\n",
    "                if (self.sets == 'test' and prob_size > 90) \\\n",
    "                    or (self.sets == 'train' and prob_size > 1000):\n",
    "                    continue\n",
    "                self.data_list.append(name)\n",
    "\n",
    "        # remove trivial instance esc16f\n",
    "        if 'esc16f' in self.data_list:\n",
    "            self.data_list.remove('esc16f')\n",
    "\n",
    "        # define compare function\n",
    "        def name_cmp(a, b):\n",
    "            a = re.findall(r'[0-9]+|[a-z]+', a)\n",
    "            b = re.findall(r'[0-9]+|[a-z]+', b)\n",
    "            for _a, _b in zip(a, b):\n",
    "                if _a.isdigit() and _b.isdigit():\n",
    "                    _a = int(_a)\n",
    "                    _b = int(_b)\n",
    "                cmp = (_a > _b) - (_a < _b)\n",
    "                if cmp != 0:\n",
    "                    return cmp\n",
    "            if len(a) > len(b):\n",
    "                return -1\n",
    "            elif len(a) < len(b):\n",
    "                return 1\n",
    "            else:\n",
    "                return 0\n",
    "\n",
    "        def cmp_to_key(mycmp):\n",
    "            'Convert a cmp= function into a key= function'\n",
    "            class K:\n",
    "                def __init__(self, obj, *args):\n",
    "                    self.obj = obj\n",
    "                def __lt__(self, other):\n",
    "                    return mycmp(self.obj, other.obj) < 0\n",
    "                def __gt__(self, other):\n",
    "                    return mycmp(self.obj, other.obj) > 0\n",
    "                def __eq__(self, other):\n",
    "                    return mycmp(self.obj, other.obj) == 0\n",
    "                def __le__(self, other):\n",
    "                    return mycmp(self.obj, other.obj) <= 0\n",
    "                def __ge__(self, other):\n",
    "                    return mycmp(self.obj, other.obj) >= 0\n",
    "                def __ne__(self, other):\n",
    "                    return mycmp(self.obj, other.obj) != 0\n",
    "            return K\n",
    "\n",
    "        # sort data list according to the names\n",
    "        self.data_list.sort(key=cmp_to_key(name_cmp))\n",
    "\n",
    "    def __len__(self):\n",
    "        return len(self.data_list)\n",
    "    \n",
    "    def get_pair(self, idx, shuffle=None):\n",
    "        \"\"\"\n",
    "        Get QAP data by index\n",
    "        :param idx: dataset index\n",
    "        :param shuffle: no use here\n",
    "        :return: (pair of data, groundtruth permutation matrix)\n",
    "        \"\"\"\n",
    "        name = self.data_list[idx]\n",
    "\n",
    "        dat_path = self.qap_path / (name + '.dat')\n",
    "        if Path.exists(self.qap_path / (name + '.sln')):\n",
    "            sln_path = self.qap_path / (name + '.sln')\n",
    "            sln_file = sln_path.open()\n",
    "        else:\n",
    "            sln_file = None\n",
    "        dat_file = dat_path.open()\n",
    "        \n",
    "\n",
    "        def split_line(x):\n",
    "            for _ in re.split(r'[,\\s]', x.rstrip('\\n')):\n",
    "                if _ == \"\":\n",
    "                    continue\n",
    "                else:\n",
    "                    yield float(_)\n",
    "\n",
    "        dat_list = [[_ for _ in split_line(line)] for line in dat_file]\n",
    "        if sln_file != None:\n",
    "            sln_list = [[_ for _ in split_line(line)] for line in sln_file]\n",
    "        else:\n",
    "            sln_list = None\n",
    "\n",
    "        prob_size = dat_list[0][0]\n",
    "\n",
    "        # read data\n",
    "        r = 0\n",
    "        c = 0\n",
    "        Fi = [[]]\n",
    "        Fj = [[]]\n",
    "        F = Fi\n",
    "        for l in dat_list[1:]:\n",
    "            F[r] += l\n",
    "            c += len(l)\n",
    "            assert c <= prob_size\n",
    "            if c == prob_size:\n",
    "                r += 1\n",
    "                if r < prob_size:\n",
    "                    F.append([])\n",
    "                    c = 0\n",
    "                else:\n",
    "                    F = Fj\n",
    "                    r = 0\n",
    "                    c = 0\n",
    "        Fi = np.array(Fi, dtype=np.float32)\n",
    "        Fj = np.array(Fj, dtype=np.float32)\n",
    "        assert Fi.shape == Fj.shape == (prob_size, prob_size)\n",
    "        #K = np.kron(Fj, Fi)\n",
    "\n",
    "        # read solution\n",
    "        if sln_list != None:\n",
    "            sol = sln_list[0][1]\n",
    "            obj = sln_list[0][-1]\n",
    "            perm_list = []\n",
    "            for _ in sln_list[1:]:\n",
    "                perm_list += _\n",
    "            assert len(perm_list) == prob_size\n",
    "            perm_mat = np.zeros((prob_size, prob_size), dtype=np.float32)\n",
    "            for r, c in enumerate(perm_list):\n",
    "                perm_mat[r, c - 1] = 1\n",
    "\n",
    "            return Fi, Fj, perm_mat, sol, name,obj\n",
    "        else:\n",
    "            return Fi,Fj,None, None ,name, None\n",
    "    "
   ]
  },
  {
   "cell_type": "code",
   "execution_count": 30,
   "metadata": {},
   "outputs": [],
   "source": [
    "train_set = QAPLIB('train','erdos')\n",
    "F,D,per,sol,name, opt_obj = train_set.get_pair(0)"
   ]
  },
  {
   "cell_type": "code",
   "execution_count": 47,
   "metadata": {},
   "outputs": [
    {
     "data": {
      "text/plain": [
       "23520.0"
      ]
     },
     "execution_count": 47,
     "metadata": {},
     "output_type": "execute_result"
    }
   ],
   "source": [
    "tabu_search(F,D,20000,20,4000)"
   ]
  },
  {
   "cell_type": "code",
   "execution_count": 5,
   "metadata": {},
   "outputs": [
    {
     "name": "stderr",
     "output_type": "stream",
     "text": [
      "100%|██████████| 64/64 [1:17:25<00:00, 72.59s/it]"
     ]
    },
    {
     "name": "stdout",
     "output_type": "stream",
     "text": [
      "max:1717.3758906789944,min:1505.2194983718787,mean:1615.7720917077686\n"
     ]
    },
    {
     "name": "stderr",
     "output_type": "stream",
     "text": [
      "\n"
     ]
    }
   ],
   "source": [
    "from tqdm import tqdm\n",
    "\n",
    "F = np.load('/home/tzt/learning-2opt-drl/synthetic_data/erdos100_0.7_F_test.npy')\n",
    "D = np.load('/home/tzt/learning-2opt-drl/synthetic_data/erdos100_0.7_positions_test.npy')\n",
    "from utils import distance_matrix\n",
    "\n",
    "out = []\n",
    "for i in tqdm(range(64)):\n",
    "    out.append(tabu_search(F[i],distance_matrix(D[i],D[i]),1000,100,1000))\n",
    "\n",
    "out = np.array(out)\n",
    "\n",
    "print('max:{},min:{},mean:{}'.format(out.max(),out.min(),out.mean()))"
   ]
  },
  {
   "cell_type": "code",
   "execution_count": 9,
   "metadata": {},
   "outputs": [
    {
     "name": "stderr",
     "output_type": "stream",
     "text": [
      "100%|██████████| 1/1 [04:29<00:00, 269.79s/it]"
     ]
    },
    {
     "name": "stdout",
     "output_type": "stream",
     "text": [
      "max:1643.4417576614146,min:1643.4417576614146,mean:1643.4417576614146\n"
     ]
    },
    {
     "name": "stderr",
     "output_type": "stream",
     "text": [
      "\n"
     ]
    }
   ],
   "source": [
    "F = np.load('/home/tzt/learning-2opt-drl/synthetic_data/erdos100_0.7_F_test.npy')\n",
    "D = np.load('/home/tzt/learning-2opt-drl/synthetic_data/erdos100_0.7_positions_test.npy')\n",
    "from utils import distance_matrix\n",
    "\n",
    "out = []\n",
    "for i in tqdm(range(1)):\n",
    "    out.append(tabu_search(F[i],distance_matrix(D[i],D[i]),400,100,400))\n",
    "\n",
    "out = np.array(out)\n",
    "\n",
    "print('max:{},min:{},mean:{}'.format(out.max(),out.min(),out.mean()))"
   ]
  },
  {
   "cell_type": "code",
   "execution_count": 71,
   "metadata": {},
   "outputs": [
    {
     "name": "stdout",
     "output_type": "stream",
     "text": [
      "max:434.9689410189354,min:341.8500977413191,mean:381.11513007296577\n"
     ]
    }
   ],
   "source": [
    "F = np.load('/home/tzt/learning-2opt-drl/synthetic_data/erdos50_0.7_F_test.npy')\n",
    "D = np.load('/home/tzt/learning-2opt-drl/synthetic_data/erdos50_0.7_positions_test.npy')\n",
    "from utils import distance_matrix\n",
    "from tqdm import tqdm \n",
    "\n",
    "out = []\n",
    "for i in tqdm(range(128)):\n",
    "    out.append(tabu_search(F[i],distance_matrix(D[i],D[i]),400,50,400))\n",
    "\n",
    "out = np.array(out)\n",
    "\n",
    "print('max:{},min:{},mean:{}'.format(out.max(),out.min(),out.mean()))"
   ]
  },
  {
   "cell_type": "code",
   "execution_count": 6,
   "metadata": {},
   "outputs": [
    {
     "name": "stderr",
     "output_type": "stream",
     "text": [
      "100%|██████████| 256/256 [1:38:01<00:00, 22.98s/it]"
     ]
    },
    {
     "name": "stdout",
     "output_type": "stream",
     "text": [
      "max:77.55628039641695,min:37.24936456427966,mean:54.93176488671204\n"
     ]
    },
    {
     "name": "stderr",
     "output_type": "stream",
     "text": [
      "\n"
     ]
    }
   ],
   "source": [
    "F = np.load('/home/tzt/learning-2opt-drl/synthetic_data/erdos20_0.7_F_test.npy')\n",
    "D = np.load('/home/tzt/learning-2opt-drl/synthetic_data/erdos20_0.7_positions_test.npy')\n",
    "from utils import distance_matrix\n",
    "from tqdm import tqdm\n",
    "\n",
    "\n",
    "out = []\n",
    "for i in tqdm(range(256)):\n",
    "    out.append(tabu_search(F[i],distance_matrix(D[i],D[i]),5000,20,5000))\n",
    "\n",
    "out = np.array(out)\n",
    "\n",
    "print('max:{},min:{},mean:{}'.format(out.max(),out.min(),out.mean()))"
   ]
  },
  {
   "cell_type": "code",
   "execution_count": 10,
   "metadata": {},
   "outputs": [
    {
     "data": {
      "text/plain": [
       "5881.9"
      ]
     },
     "execution_count": 10,
     "metadata": {},
     "output_type": "execute_result"
    }
   ],
   "source": [
    "98*60+1.9"
   ]
  },
  {
   "cell_type": "code",
   "execution_count": 12,
   "metadata": {},
   "outputs": [
    {
     "name": "stderr",
     "output_type": "stream",
     "text": [
      "  0%|          | 0/128 [00:00<?, ?it/s]"
     ]
    },
    {
     "name": "stderr",
     "output_type": "stream",
     "text": [
      "100%|██████████| 128/128 [1:07:26<00:00, 31.61s/it]"
     ]
    },
    {
     "name": "stdout",
     "output_type": "stream",
     "text": [
      "max:435.5509417631101,min:339.7282049599168,mean:380.56537134700795\n"
     ]
    },
    {
     "name": "stderr",
     "output_type": "stream",
     "text": [
      "\n"
     ]
    }
   ],
   "source": [
    "F = np.load('/home/tzt/learning-2opt-drl/synthetic_data/erdos50_0.7_F_test.npy')\n",
    "D = np.load('/home/tzt/learning-2opt-drl/synthetic_data/erdos50_0.7_positions_test.npy')\n",
    "from utils import distance_matrix\n",
    "from tqdm import tqdm \n",
    "\n",
    "out = []\n",
    "for i in tqdm(range(128)):\n",
    "    out.append(tabu_search(F[i],distance_matrix(D[i],D[i]),1000,50,1000))\n",
    "\n",
    "out = np.array(out)\n",
    "\n",
    "print('max:{},min:{},mean:{}'.format(out.max(),out.min(),out.mean()))"
   ]
  },
  {
   "cell_type": "code",
   "execution_count": 17,
   "metadata": {},
   "outputs": [
    {
     "data": {
      "text/plain": [
       "80.26760867071363"
      ]
     },
     "execution_count": 17,
     "metadata": {},
     "output_type": "execute_result"
    }
   ],
   "source": [
    "F = np.load('/home/tzt/learning-2opt-drl/synthetic_data/erdos20_0.7_F_train.npy')\n",
    "D = np.load('/home/tzt/learning-2opt-drl/synthetic_data/erdos20_0.7_positions_train.npy')\n",
    "from utils import distance_matrix\n",
    "from tqdm import tqdm\n",
    "x = np.eye(20)\n",
    "\n",
    "np.sum(F[0]*(x@distance_matrix(D[0],D[0])@x.T))"
   ]
  },
  {
   "cell_type": "code",
   "execution_count": 4,
   "metadata": {},
   "outputs": [
    {
     "name": "stderr",
     "output_type": "stream",
     "text": [
      "  0%|          | 0/64 [10:15<?, ?it/s]\n"
     ]
    },
    {
     "ename": "KeyboardInterrupt",
     "evalue": "",
     "output_type": "error",
     "traceback": [
      "\u001b[0;31m---------------------------------------------------------------------------\u001b[0m",
      "\u001b[0;31mKeyboardInterrupt\u001b[0m                         Traceback (most recent call last)",
      "\u001b[0;32m/tmp/ipykernel_665/3825080851.py\u001b[0m in \u001b[0;36m<module>\u001b[0;34m\u001b[0m\n\u001b[1;32m      6\u001b[0m \u001b[0mout\u001b[0m \u001b[0;34m=\u001b[0m \u001b[0;34m[\u001b[0m\u001b[0;34m]\u001b[0m\u001b[0;34m\u001b[0m\u001b[0;34m\u001b[0m\u001b[0m\n\u001b[1;32m      7\u001b[0m \u001b[0;32mfor\u001b[0m \u001b[0mi\u001b[0m \u001b[0;32min\u001b[0m \u001b[0mtqdm\u001b[0m\u001b[0;34m(\u001b[0m\u001b[0mrange\u001b[0m\u001b[0;34m(\u001b[0m\u001b[0;36m64\u001b[0m\u001b[0;34m)\u001b[0m\u001b[0;34m)\u001b[0m\u001b[0;34m:\u001b[0m\u001b[0;34m\u001b[0m\u001b[0;34m\u001b[0m\u001b[0m\n\u001b[0;32m----> 8\u001b[0;31m     \u001b[0mout\u001b[0m\u001b[0;34m.\u001b[0m\u001b[0mappend\u001b[0m\u001b[0;34m(\u001b[0m\u001b[0mtabu_search\u001b[0m\u001b[0;34m(\u001b[0m\u001b[0mF\u001b[0m\u001b[0;34m[\u001b[0m\u001b[0mi\u001b[0m\u001b[0;34m]\u001b[0m\u001b[0;34m,\u001b[0m\u001b[0mdistance_matrix\u001b[0m\u001b[0;34m(\u001b[0m\u001b[0mD\u001b[0m\u001b[0;34m[\u001b[0m\u001b[0mi\u001b[0m\u001b[0;34m]\u001b[0m\u001b[0;34m,\u001b[0m\u001b[0mD\u001b[0m\u001b[0;34m[\u001b[0m\u001b[0mi\u001b[0m\u001b[0;34m]\u001b[0m\u001b[0;34m)\u001b[0m\u001b[0;34m,\u001b[0m\u001b[0;36m1000\u001b[0m\u001b[0;34m,\u001b[0m\u001b[0;36m100\u001b[0m\u001b[0;34m,\u001b[0m\u001b[0;36m1000\u001b[0m\u001b[0;34m)\u001b[0m\u001b[0;34m)\u001b[0m\u001b[0;34m\u001b[0m\u001b[0;34m\u001b[0m\u001b[0m\n\u001b[0m\u001b[1;32m      9\u001b[0m \u001b[0;34m\u001b[0m\u001b[0m\n\u001b[1;32m     10\u001b[0m \u001b[0mout\u001b[0m \u001b[0;34m=\u001b[0m \u001b[0mnp\u001b[0m\u001b[0;34m.\u001b[0m\u001b[0marray\u001b[0m\u001b[0;34m(\u001b[0m\u001b[0mout\u001b[0m\u001b[0;34m)\u001b[0m\u001b[0;34m\u001b[0m\u001b[0;34m\u001b[0m\u001b[0m\n",
      "\u001b[0;32m/tmp/ipykernel_665/2476714723.py\u001b[0m in \u001b[0;36mtabu_search\u001b[0;34m(F, D, max_iterations, num_values, max_tabu_size)\u001b[0m\n\u001b[1;32m     35\u001b[0m             \u001b[0;32mbreak\u001b[0m\u001b[0;34m\u001b[0m\u001b[0;34m\u001b[0m\u001b[0m\n\u001b[1;32m     36\u001b[0m \u001b[0;34m\u001b[0m\u001b[0m\n\u001b[0;32m---> 37\u001b[0;31m         \u001b[0mbest_neighbour\u001b[0m \u001b[0;34m=\u001b[0m \u001b[0mmin\u001b[0m\u001b[0;34m(\u001b[0m\u001b[0mneighbours\u001b[0m\u001b[0;34m,\u001b[0m \u001b[0mkey\u001b[0m\u001b[0;34m=\u001b[0m\u001b[0;32mlambda\u001b[0m \u001b[0mx\u001b[0m\u001b[0;34m:\u001b[0m \u001b[0mobjective_function\u001b[0m\u001b[0;34m(\u001b[0m\u001b[0mF\u001b[0m\u001b[0;34m,\u001b[0m \u001b[0mD\u001b[0m\u001b[0;34m,\u001b[0m \u001b[0mx\u001b[0m\u001b[0;34m)\u001b[0m\u001b[0;34m)\u001b[0m\u001b[0;34m\u001b[0m\u001b[0;34m\u001b[0m\u001b[0m\n\u001b[0m\u001b[1;32m     38\u001b[0m \u001b[0;34m\u001b[0m\u001b[0m\n\u001b[1;32m     39\u001b[0m         \u001b[0mcurrent_solution\u001b[0m \u001b[0;34m=\u001b[0m \u001b[0mbest_neighbour\u001b[0m\u001b[0;34m\u001b[0m\u001b[0;34m\u001b[0m\u001b[0m\n",
      "\u001b[0;32m/tmp/ipykernel_665/2476714723.py\u001b[0m in \u001b[0;36m<lambda>\u001b[0;34m(x)\u001b[0m\n\u001b[1;32m     35\u001b[0m             \u001b[0;32mbreak\u001b[0m\u001b[0;34m\u001b[0m\u001b[0;34m\u001b[0m\u001b[0m\n\u001b[1;32m     36\u001b[0m \u001b[0;34m\u001b[0m\u001b[0m\n\u001b[0;32m---> 37\u001b[0;31m         \u001b[0mbest_neighbour\u001b[0m \u001b[0;34m=\u001b[0m \u001b[0mmin\u001b[0m\u001b[0;34m(\u001b[0m\u001b[0mneighbours\u001b[0m\u001b[0;34m,\u001b[0m \u001b[0mkey\u001b[0m\u001b[0;34m=\u001b[0m\u001b[0;32mlambda\u001b[0m \u001b[0mx\u001b[0m\u001b[0;34m:\u001b[0m \u001b[0mobjective_function\u001b[0m\u001b[0;34m(\u001b[0m\u001b[0mF\u001b[0m\u001b[0;34m,\u001b[0m \u001b[0mD\u001b[0m\u001b[0;34m,\u001b[0m \u001b[0mx\u001b[0m\u001b[0;34m)\u001b[0m\u001b[0;34m)\u001b[0m\u001b[0;34m\u001b[0m\u001b[0;34m\u001b[0m\u001b[0m\n\u001b[0m\u001b[1;32m     38\u001b[0m \u001b[0;34m\u001b[0m\u001b[0m\n\u001b[1;32m     39\u001b[0m         \u001b[0mcurrent_solution\u001b[0m \u001b[0;34m=\u001b[0m \u001b[0mbest_neighbour\u001b[0m\u001b[0;34m\u001b[0m\u001b[0;34m\u001b[0m\u001b[0m\n",
      "\u001b[0;32m/tmp/ipykernel_665/2476714723.py\u001b[0m in \u001b[0;36mobjective_function\u001b[0;34m(F, D, sol)\u001b[0m\n\u001b[1;32m     14\u001b[0m \u001b[0;32mdef\u001b[0m \u001b[0mobjective_function\u001b[0m\u001b[0;34m(\u001b[0m\u001b[0mF\u001b[0m\u001b[0;34m,\u001b[0m\u001b[0mD\u001b[0m\u001b[0;34m,\u001b[0m\u001b[0msol\u001b[0m\u001b[0;34m)\u001b[0m\u001b[0;34m:\u001b[0m\u001b[0;34m\u001b[0m\u001b[0;34m\u001b[0m\u001b[0m\n\u001b[1;32m     15\u001b[0m     \u001b[0mper\u001b[0m \u001b[0;34m=\u001b[0m \u001b[0mform_per\u001b[0m\u001b[0;34m(\u001b[0m\u001b[0msol\u001b[0m\u001b[0;34m)\u001b[0m\u001b[0;34m\u001b[0m\u001b[0;34m\u001b[0m\u001b[0m\n\u001b[0;32m---> 16\u001b[0;31m     \u001b[0mobj\u001b[0m \u001b[0;34m=\u001b[0m \u001b[0mnp\u001b[0m\u001b[0;34m.\u001b[0m\u001b[0msum\u001b[0m\u001b[0;34m(\u001b[0m\u001b[0mF\u001b[0m\u001b[0;34m*\u001b[0m\u001b[0;34m(\u001b[0m\u001b[0mper\u001b[0m\u001b[0;34m@\u001b[0m\u001b[0mD\u001b[0m\u001b[0;34m@\u001b[0m\u001b[0mper\u001b[0m\u001b[0;34m.\u001b[0m\u001b[0mT\u001b[0m\u001b[0;34m)\u001b[0m\u001b[0;34m)\u001b[0m\u001b[0;34m\u001b[0m\u001b[0;34m\u001b[0m\u001b[0m\n\u001b[0m\u001b[1;32m     17\u001b[0m     \u001b[0;32mreturn\u001b[0m \u001b[0mobj\u001b[0m\u001b[0;34m\u001b[0m\u001b[0;34m\u001b[0m\u001b[0m\n\u001b[1;32m     18\u001b[0m \u001b[0;34m\u001b[0m\u001b[0m\n",
      "\u001b[0;31mKeyboardInterrupt\u001b[0m: "
     ]
    }
   ],
   "source": [
    "F = np.load('/home/tzt/learning-2opt-drl/synthetic_data/erdos100_0.7_F_test.npy')\n",
    "D = np.load('/home/tzt/learning-2opt-drl/synthetic_data/erdos100_0.7_positions_test.npy')\n",
    "from utils import distance_matrix\n",
    "from tqdm import tqdm\n",
    "\n",
    "out = []\n",
    "for i in tqdm(range(64)):\n",
    "    out.append(tabu_search(F[i],distance_matrix(D[i],D[i]),1000,100,1000))\n",
    "\n",
    "out = np.array(out)\n",
    "\n",
    "print('max:{},min:{},mean:{}'.format(out.max(),out.min(),out.mean()))"
   ]
  },
  {
   "cell_type": "code",
   "execution_count": 2,
   "metadata": {},
   "outputs": [
    {
     "name": "stderr",
     "output_type": "stream",
     "text": [
      "/home/tzt/anaconda3/envs/ThinkMatch/lib/python3.7/site-packages/tqdm/auto.py:22: TqdmWarning: IProgress not found. Please update jupyter and ipywidgets. See https://ipywidgets.readthedocs.io/en/stable/user_install.html\n",
      "  from .autonotebook import tqdm as notebook_tqdm\n",
      "100%|██████████| 1/1 [00:34<00:00, 34.50s/it]"
     ]
    },
    {
     "name": "stdout",
     "output_type": "stream",
     "text": [
      "max:359.99905964980553,min:359.99905964980553,mean:359.99905964980553\n"
     ]
    },
    {
     "name": "stderr",
     "output_type": "stream",
     "text": [
      "\n"
     ]
    }
   ],
   "source": [
    "F = np.load('/home/tzt/learning-2opt-drl/synthetic_data/erdos50_0.7_F_test.npy')\n",
    "D = np.load('/home/tzt/learning-2opt-drl/synthetic_data/erdos50_0.7_positions_test.npy')\n",
    "from utils import distance_matrix\n",
    "from tqdm import tqdm \n",
    "\n",
    "out = []\n",
    "for i in tqdm(range(1)):\n",
    "    out.append(tabu_search(F[i],distance_matrix(D[i],D[i]),1000,50,1000))\n",
    "\n",
    "out = np.array(out)\n",
    "\n",
    "print('max:{},min:{},mean:{}'.format(out.max(),out.min(),out.mean()))"
   ]
  },
  {
   "cell_type": "code",
   "execution_count": 6,
   "metadata": {},
   "outputs": [
    {
     "data": {
      "text/plain": [
       "0.0327256464893589"
      ]
     },
     "execution_count": 6,
     "metadata": {},
     "output_type": "execute_result"
    }
   ],
   "source": [
    "(392.57-380.13)/380.13\n"
   ]
  },
  {
   "cell_type": "code",
   "execution_count": 10,
   "metadata": {},
   "outputs": [
    {
     "data": {
      "text/plain": [
       "5350.088495575221"
      ]
     },
     "execution_count": 10,
     "metadata": {},
     "output_type": "execute_result"
    }
   ],
   "source": [
    "4*(6*3600*24+23*3600+56*60)/(7*60 + 32)"
   ]
  },
  {
   "cell_type": "code",
   "execution_count": null,
   "metadata": {},
   "outputs": [],
   "source": []
  }
 ],
 "metadata": {
  "kernelspec": {
   "display_name": "ThinkMatch",
   "language": "python",
   "name": "python3"
  },
  "language_info": {
   "codemirror_mode": {
    "name": "ipython",
    "version": 3
   },
   "file_extension": ".py",
   "mimetype": "text/x-python",
   "name": "python",
   "nbconvert_exporter": "python",
   "pygments_lexer": "ipython3",
   "version": "3.7.13"
  }
 },
 "nbformat": 4,
 "nbformat_minor": 2
}
